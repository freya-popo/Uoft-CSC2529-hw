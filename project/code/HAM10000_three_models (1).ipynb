{
  "nbformat": 4,
  "nbformat_minor": 0,
  "metadata": {
    "colab": {
      "provenance": [],
      "gpuType": "V100"
    },
    "kernelspec": {
      "name": "python3",
      "display_name": "Python 3"
    },
    "language_info": {
      "name": "python"
    },
    "accelerator": "GPU"
  },
  "cells": [
    {
      "cell_type": "code",
      "execution_count": null,
      "metadata": {
        "colab": {
          "base_uri": "https://localhost:8080/"
        },
        "id": "bZg7RHlfPMqm",
        "outputId": "9855b102-2a6b-4975-d0f7-6532995b3860"
      },
      "outputs": [
        {
          "output_type": "stream",
          "name": "stdout",
          "text": [
            "Mounted at /content/gdrive\n"
          ]
        },
        {
          "output_type": "execute_result",
          "data": {
            "text/plain": [
              "<contextlib.ExitStack at 0x7b85e2ce9870>"
            ]
          },
          "metadata": {},
          "execution_count": 1
        }
      ],
      "source": [
        "#IMPORT PACKAGES\n",
        "from __future__ import print_function, division\n",
        "import os\n",
        "import torch\n",
        "import pandas as pd\n",
        "from skimage import io, transform\n",
        "import numpy as np\n",
        "import matplotlib.pyplot as plt\n",
        "from torch.utils.data import Dataset, DataLoader\n",
        "from torchvision import utils\n",
        "from torchvision.io import read_image\n",
        "import torchvision.transforms as T\n",
        "import random\n",
        "from torch import Tensor\n",
        "import torch\n",
        "import torch.nn as nn\n",
        "import torch.optim as optim\n",
        "from torchvision import models, transforms\n",
        "from torch.utils.data import DataLoader\n",
        "from sklearn.model_selection import train_test_split\n",
        "\n",
        "\n",
        "#access files stored in drive - you will have to give Google Drive permission to access your files in your Google Drive\n",
        "#add 'Team 1' folder as a shortcut to your Drive, then rename the folder to 'Team_1' (spaces are problematic in file paths)\n",
        "from google.colab import drive\n",
        "drive.mount('/content/gdrive')\n",
        "\n",
        "# Ignore warnings\n",
        "import warnings\n",
        "warnings.filterwarnings(\"ignore\")\n",
        "\n",
        "plt.ion()   # interactive mode"
      ]
    },
    {
      "cell_type": "code",
      "execution_count": null,
      "metadata": {
        "id": "MXVj2mjuXKj3"
      },
      "outputs": [],
      "source": [
        "#CUSTOM DATASET CLASS DATASET\n",
        "class HAM10000(Dataset):\n",
        "  \"\"\"HAM10000 Dataset\"\"\"\n",
        "\n",
        "  def __init__(self, csv_file, img_dir, transform=None, target_transform=None):\n",
        "    \"\"\"\n",
        "    Args:\n",
        "      csv_file (string): Path to the csv file with the metadata/labels for images.\n",
        "      img_dir (string): Directory with all the images.\n",
        "      transform (callable, optional): Optional transform to be applied\n",
        "          on the image of a sample.\n",
        "      target_transform (callable, optional): Optional transform to be\n",
        "          applied on the features of the sample.\n",
        "    \"\"\"\n",
        "    self.img_labels = pd.read_csv(csv_file)\n",
        "    self.img_dir = img_dir\n",
        "    self.transform = transform\n",
        "    self.target_transform = target_transform\n",
        "\n",
        "  def __len__(self):\n",
        "    return len(self.img_labels)\n",
        "\n",
        "  def __getitem__(self, index):\n",
        "    #get image\n",
        "    img_name = os.path.join(self.img_dir, (self.img_labels['image_id'][index] + '.jpg'))\n",
        "    image = read_image(img_name)/255\n",
        "    image = torch.tensor(image, dtype=torch.float32)\n",
        "\n",
        "\n",
        "    #get metadata\n",
        "    label = self.img_labels['label'][index]\n",
        "    # label = np.array([label], dtype=np.int8)\n",
        "    # label = torch.from_numpy(label.flatten())\n",
        "\n",
        "    gender = self.img_labels['sex'][index]\n",
        "\n",
        "\n",
        "    # #if transforms are to be performed on the sample, this will trigger them\n",
        "    if self.transform:\n",
        "      image = self.transform(image)\n",
        "    if self.target_transform:\n",
        "      label = self.target_transform(label)\n",
        "    if self.target_transform:\n",
        "      fitzscale = self.target_transform(fitzscale)\n",
        "\n",
        "    return image, label, gender"
      ]
    },
    {
      "cell_type": "code",
      "source": [
        "image_size = 64\n",
        "weight_decay = 8e-9\n",
        "beta1 = 0.5\n",
        "beta2 = 0.999"
      ],
      "metadata": {
        "id": "JM2QlvyVtnmh"
      },
      "execution_count": null,
      "outputs": []
    },
    {
      "cell_type": "code",
      "execution_count": null,
      "metadata": {
        "id": "c_HeZG0sVl36"
      },
      "outputs": [],
      "source": [
        "HAM10000_meta = pd.read_csv('/content/gdrive/MyDrive/CSC2529/HAM10000_metadata')"
      ]
    },
    {
      "cell_type": "code",
      "source": [
        "HAM10000_meta"
      ],
      "metadata": {
        "colab": {
          "base_uri": "https://localhost:8080/",
          "height": 424
        },
        "id": "RVq8BdjcboQD",
        "outputId": "3ca4a54d-e06f-410e-cf26-58caf1e660e9"
      },
      "execution_count": null,
      "outputs": [
        {
          "output_type": "execute_result",
          "data": {
            "text/plain": [
              "         lesion_id      image_id     dx dx_type   age     sex localization  \\\n",
              "0      HAM_0000118  ISIC_0027419    bkl   histo  80.0    male        scalp   \n",
              "1      HAM_0000118  ISIC_0025030    bkl   histo  80.0    male        scalp   \n",
              "2      HAM_0002730  ISIC_0026769    bkl   histo  80.0    male        scalp   \n",
              "3      HAM_0002730  ISIC_0025661    bkl   histo  80.0    male        scalp   \n",
              "4      HAM_0001466  ISIC_0031633    bkl   histo  75.0    male          ear   \n",
              "...            ...           ...    ...     ...   ...     ...          ...   \n",
              "10010  HAM_0002867  ISIC_0033084  akiec   histo  40.0    male      abdomen   \n",
              "10011  HAM_0002867  ISIC_0033550  akiec   histo  40.0    male      abdomen   \n",
              "10012  HAM_0002867  ISIC_0033536  akiec   histo  40.0    male      abdomen   \n",
              "10013  HAM_0000239  ISIC_0032854  akiec   histo  80.0    male         face   \n",
              "10014  HAM_0003521  ISIC_0032258    mel   histo  70.0  female         back   \n",
              "\n",
              "            dataset  \n",
              "0      vidir_modern  \n",
              "1      vidir_modern  \n",
              "2      vidir_modern  \n",
              "3      vidir_modern  \n",
              "4      vidir_modern  \n",
              "...             ...  \n",
              "10010  vidir_modern  \n",
              "10011  vidir_modern  \n",
              "10012  vidir_modern  \n",
              "10013  vidir_modern  \n",
              "10014  vidir_modern  \n",
              "\n",
              "[10015 rows x 8 columns]"
            ],
            "text/html": [
              "\n",
              "  <div id=\"df-5786657d-dc23-4c92-9b35-49656ab4cf25\" class=\"colab-df-container\">\n",
              "    <div>\n",
              "<style scoped>\n",
              "    .dataframe tbody tr th:only-of-type {\n",
              "        vertical-align: middle;\n",
              "    }\n",
              "\n",
              "    .dataframe tbody tr th {\n",
              "        vertical-align: top;\n",
              "    }\n",
              "\n",
              "    .dataframe thead th {\n",
              "        text-align: right;\n",
              "    }\n",
              "</style>\n",
              "<table border=\"1\" class=\"dataframe\">\n",
              "  <thead>\n",
              "    <tr style=\"text-align: right;\">\n",
              "      <th></th>\n",
              "      <th>lesion_id</th>\n",
              "      <th>image_id</th>\n",
              "      <th>dx</th>\n",
              "      <th>dx_type</th>\n",
              "      <th>age</th>\n",
              "      <th>sex</th>\n",
              "      <th>localization</th>\n",
              "      <th>dataset</th>\n",
              "    </tr>\n",
              "  </thead>\n",
              "  <tbody>\n",
              "    <tr>\n",
              "      <th>0</th>\n",
              "      <td>HAM_0000118</td>\n",
              "      <td>ISIC_0027419</td>\n",
              "      <td>bkl</td>\n",
              "      <td>histo</td>\n",
              "      <td>80.0</td>\n",
              "      <td>male</td>\n",
              "      <td>scalp</td>\n",
              "      <td>vidir_modern</td>\n",
              "    </tr>\n",
              "    <tr>\n",
              "      <th>1</th>\n",
              "      <td>HAM_0000118</td>\n",
              "      <td>ISIC_0025030</td>\n",
              "      <td>bkl</td>\n",
              "      <td>histo</td>\n",
              "      <td>80.0</td>\n",
              "      <td>male</td>\n",
              "      <td>scalp</td>\n",
              "      <td>vidir_modern</td>\n",
              "    </tr>\n",
              "    <tr>\n",
              "      <th>2</th>\n",
              "      <td>HAM_0002730</td>\n",
              "      <td>ISIC_0026769</td>\n",
              "      <td>bkl</td>\n",
              "      <td>histo</td>\n",
              "      <td>80.0</td>\n",
              "      <td>male</td>\n",
              "      <td>scalp</td>\n",
              "      <td>vidir_modern</td>\n",
              "    </tr>\n",
              "    <tr>\n",
              "      <th>3</th>\n",
              "      <td>HAM_0002730</td>\n",
              "      <td>ISIC_0025661</td>\n",
              "      <td>bkl</td>\n",
              "      <td>histo</td>\n",
              "      <td>80.0</td>\n",
              "      <td>male</td>\n",
              "      <td>scalp</td>\n",
              "      <td>vidir_modern</td>\n",
              "    </tr>\n",
              "    <tr>\n",
              "      <th>4</th>\n",
              "      <td>HAM_0001466</td>\n",
              "      <td>ISIC_0031633</td>\n",
              "      <td>bkl</td>\n",
              "      <td>histo</td>\n",
              "      <td>75.0</td>\n",
              "      <td>male</td>\n",
              "      <td>ear</td>\n",
              "      <td>vidir_modern</td>\n",
              "    </tr>\n",
              "    <tr>\n",
              "      <th>...</th>\n",
              "      <td>...</td>\n",
              "      <td>...</td>\n",
              "      <td>...</td>\n",
              "      <td>...</td>\n",
              "      <td>...</td>\n",
              "      <td>...</td>\n",
              "      <td>...</td>\n",
              "      <td>...</td>\n",
              "    </tr>\n",
              "    <tr>\n",
              "      <th>10010</th>\n",
              "      <td>HAM_0002867</td>\n",
              "      <td>ISIC_0033084</td>\n",
              "      <td>akiec</td>\n",
              "      <td>histo</td>\n",
              "      <td>40.0</td>\n",
              "      <td>male</td>\n",
              "      <td>abdomen</td>\n",
              "      <td>vidir_modern</td>\n",
              "    </tr>\n",
              "    <tr>\n",
              "      <th>10011</th>\n",
              "      <td>HAM_0002867</td>\n",
              "      <td>ISIC_0033550</td>\n",
              "      <td>akiec</td>\n",
              "      <td>histo</td>\n",
              "      <td>40.0</td>\n",
              "      <td>male</td>\n",
              "      <td>abdomen</td>\n",
              "      <td>vidir_modern</td>\n",
              "    </tr>\n",
              "    <tr>\n",
              "      <th>10012</th>\n",
              "      <td>HAM_0002867</td>\n",
              "      <td>ISIC_0033536</td>\n",
              "      <td>akiec</td>\n",
              "      <td>histo</td>\n",
              "      <td>40.0</td>\n",
              "      <td>male</td>\n",
              "      <td>abdomen</td>\n",
              "      <td>vidir_modern</td>\n",
              "    </tr>\n",
              "    <tr>\n",
              "      <th>10013</th>\n",
              "      <td>HAM_0000239</td>\n",
              "      <td>ISIC_0032854</td>\n",
              "      <td>akiec</td>\n",
              "      <td>histo</td>\n",
              "      <td>80.0</td>\n",
              "      <td>male</td>\n",
              "      <td>face</td>\n",
              "      <td>vidir_modern</td>\n",
              "    </tr>\n",
              "    <tr>\n",
              "      <th>10014</th>\n",
              "      <td>HAM_0003521</td>\n",
              "      <td>ISIC_0032258</td>\n",
              "      <td>mel</td>\n",
              "      <td>histo</td>\n",
              "      <td>70.0</td>\n",
              "      <td>female</td>\n",
              "      <td>back</td>\n",
              "      <td>vidir_modern</td>\n",
              "    </tr>\n",
              "  </tbody>\n",
              "</table>\n",
              "<p>10015 rows × 8 columns</p>\n",
              "</div>\n",
              "    <div class=\"colab-df-buttons\">\n",
              "\n",
              "  <div class=\"colab-df-container\">\n",
              "    <button class=\"colab-df-convert\" onclick=\"convertToInteractive('df-5786657d-dc23-4c92-9b35-49656ab4cf25')\"\n",
              "            title=\"Convert this dataframe to an interactive table.\"\n",
              "            style=\"display:none;\">\n",
              "\n",
              "  <svg xmlns=\"http://www.w3.org/2000/svg\" height=\"24px\" viewBox=\"0 -960 960 960\">\n",
              "    <path d=\"M120-120v-720h720v720H120Zm60-500h600v-160H180v160Zm220 220h160v-160H400v160Zm0 220h160v-160H400v160ZM180-400h160v-160H180v160Zm440 0h160v-160H620v160ZM180-180h160v-160H180v160Zm440 0h160v-160H620v160Z\"/>\n",
              "  </svg>\n",
              "    </button>\n",
              "\n",
              "  <style>\n",
              "    .colab-df-container {\n",
              "      display:flex;\n",
              "      gap: 12px;\n",
              "    }\n",
              "\n",
              "    .colab-df-convert {\n",
              "      background-color: #E8F0FE;\n",
              "      border: none;\n",
              "      border-radius: 50%;\n",
              "      cursor: pointer;\n",
              "      display: none;\n",
              "      fill: #1967D2;\n",
              "      height: 32px;\n",
              "      padding: 0 0 0 0;\n",
              "      width: 32px;\n",
              "    }\n",
              "\n",
              "    .colab-df-convert:hover {\n",
              "      background-color: #E2EBFA;\n",
              "      box-shadow: 0px 1px 2px rgba(60, 64, 67, 0.3), 0px 1px 3px 1px rgba(60, 64, 67, 0.15);\n",
              "      fill: #174EA6;\n",
              "    }\n",
              "\n",
              "    .colab-df-buttons div {\n",
              "      margin-bottom: 4px;\n",
              "    }\n",
              "\n",
              "    [theme=dark] .colab-df-convert {\n",
              "      background-color: #3B4455;\n",
              "      fill: #D2E3FC;\n",
              "    }\n",
              "\n",
              "    [theme=dark] .colab-df-convert:hover {\n",
              "      background-color: #434B5C;\n",
              "      box-shadow: 0px 1px 3px 1px rgba(0, 0, 0, 0.15);\n",
              "      filter: drop-shadow(0px 1px 2px rgba(0, 0, 0, 0.3));\n",
              "      fill: #FFFFFF;\n",
              "    }\n",
              "  </style>\n",
              "\n",
              "    <script>\n",
              "      const buttonEl =\n",
              "        document.querySelector('#df-5786657d-dc23-4c92-9b35-49656ab4cf25 button.colab-df-convert');\n",
              "      buttonEl.style.display =\n",
              "        google.colab.kernel.accessAllowed ? 'block' : 'none';\n",
              "\n",
              "      async function convertToInteractive(key) {\n",
              "        const element = document.querySelector('#df-5786657d-dc23-4c92-9b35-49656ab4cf25');\n",
              "        const dataTable =\n",
              "          await google.colab.kernel.invokeFunction('convertToInteractive',\n",
              "                                                    [key], {});\n",
              "        if (!dataTable) return;\n",
              "\n",
              "        const docLinkHtml = 'Like what you see? Visit the ' +\n",
              "          '<a target=\"_blank\" href=https://colab.research.google.com/notebooks/data_table.ipynb>data table notebook</a>'\n",
              "          + ' to learn more about interactive tables.';\n",
              "        element.innerHTML = '';\n",
              "        dataTable['output_type'] = 'display_data';\n",
              "        await google.colab.output.renderOutput(dataTable, element);\n",
              "        const docLink = document.createElement('div');\n",
              "        docLink.innerHTML = docLinkHtml;\n",
              "        element.appendChild(docLink);\n",
              "      }\n",
              "    </script>\n",
              "  </div>\n",
              "\n",
              "\n",
              "<div id=\"df-f3eab939-9cfc-4f0c-8f1e-f5441ec3da75\">\n",
              "  <button class=\"colab-df-quickchart\" onclick=\"quickchart('df-f3eab939-9cfc-4f0c-8f1e-f5441ec3da75')\"\n",
              "            title=\"Suggest charts\"\n",
              "            style=\"display:none;\">\n",
              "\n",
              "<svg xmlns=\"http://www.w3.org/2000/svg\" height=\"24px\"viewBox=\"0 0 24 24\"\n",
              "     width=\"24px\">\n",
              "    <g>\n",
              "        <path d=\"M19 3H5c-1.1 0-2 .9-2 2v14c0 1.1.9 2 2 2h14c1.1 0 2-.9 2-2V5c0-1.1-.9-2-2-2zM9 17H7v-7h2v7zm4 0h-2V7h2v10zm4 0h-2v-4h2v4z\"/>\n",
              "    </g>\n",
              "</svg>\n",
              "  </button>\n",
              "\n",
              "<style>\n",
              "  .colab-df-quickchart {\n",
              "      --bg-color: #E8F0FE;\n",
              "      --fill-color: #1967D2;\n",
              "      --hover-bg-color: #E2EBFA;\n",
              "      --hover-fill-color: #174EA6;\n",
              "      --disabled-fill-color: #AAA;\n",
              "      --disabled-bg-color: #DDD;\n",
              "  }\n",
              "\n",
              "  [theme=dark] .colab-df-quickchart {\n",
              "      --bg-color: #3B4455;\n",
              "      --fill-color: #D2E3FC;\n",
              "      --hover-bg-color: #434B5C;\n",
              "      --hover-fill-color: #FFFFFF;\n",
              "      --disabled-bg-color: #3B4455;\n",
              "      --disabled-fill-color: #666;\n",
              "  }\n",
              "\n",
              "  .colab-df-quickchart {\n",
              "    background-color: var(--bg-color);\n",
              "    border: none;\n",
              "    border-radius: 50%;\n",
              "    cursor: pointer;\n",
              "    display: none;\n",
              "    fill: var(--fill-color);\n",
              "    height: 32px;\n",
              "    padding: 0;\n",
              "    width: 32px;\n",
              "  }\n",
              "\n",
              "  .colab-df-quickchart:hover {\n",
              "    background-color: var(--hover-bg-color);\n",
              "    box-shadow: 0 1px 2px rgba(60, 64, 67, 0.3), 0 1px 3px 1px rgba(60, 64, 67, 0.15);\n",
              "    fill: var(--button-hover-fill-color);\n",
              "  }\n",
              "\n",
              "  .colab-df-quickchart-complete:disabled,\n",
              "  .colab-df-quickchart-complete:disabled:hover {\n",
              "    background-color: var(--disabled-bg-color);\n",
              "    fill: var(--disabled-fill-color);\n",
              "    box-shadow: none;\n",
              "  }\n",
              "\n",
              "  .colab-df-spinner {\n",
              "    border: 2px solid var(--fill-color);\n",
              "    border-color: transparent;\n",
              "    border-bottom-color: var(--fill-color);\n",
              "    animation:\n",
              "      spin 1s steps(1) infinite;\n",
              "  }\n",
              "\n",
              "  @keyframes spin {\n",
              "    0% {\n",
              "      border-color: transparent;\n",
              "      border-bottom-color: var(--fill-color);\n",
              "      border-left-color: var(--fill-color);\n",
              "    }\n",
              "    20% {\n",
              "      border-color: transparent;\n",
              "      border-left-color: var(--fill-color);\n",
              "      border-top-color: var(--fill-color);\n",
              "    }\n",
              "    30% {\n",
              "      border-color: transparent;\n",
              "      border-left-color: var(--fill-color);\n",
              "      border-top-color: var(--fill-color);\n",
              "      border-right-color: var(--fill-color);\n",
              "    }\n",
              "    40% {\n",
              "      border-color: transparent;\n",
              "      border-right-color: var(--fill-color);\n",
              "      border-top-color: var(--fill-color);\n",
              "    }\n",
              "    60% {\n",
              "      border-color: transparent;\n",
              "      border-right-color: var(--fill-color);\n",
              "    }\n",
              "    80% {\n",
              "      border-color: transparent;\n",
              "      border-right-color: var(--fill-color);\n",
              "      border-bottom-color: var(--fill-color);\n",
              "    }\n",
              "    90% {\n",
              "      border-color: transparent;\n",
              "      border-bottom-color: var(--fill-color);\n",
              "    }\n",
              "  }\n",
              "</style>\n",
              "\n",
              "  <script>\n",
              "    async function quickchart(key) {\n",
              "      const quickchartButtonEl =\n",
              "        document.querySelector('#' + key + ' button');\n",
              "      quickchartButtonEl.disabled = true;  // To prevent multiple clicks.\n",
              "      quickchartButtonEl.classList.add('colab-df-spinner');\n",
              "      try {\n",
              "        const charts = await google.colab.kernel.invokeFunction(\n",
              "            'suggestCharts', [key], {});\n",
              "      } catch (error) {\n",
              "        console.error('Error during call to suggestCharts:', error);\n",
              "      }\n",
              "      quickchartButtonEl.classList.remove('colab-df-spinner');\n",
              "      quickchartButtonEl.classList.add('colab-df-quickchart-complete');\n",
              "    }\n",
              "    (() => {\n",
              "      let quickchartButtonEl =\n",
              "        document.querySelector('#df-f3eab939-9cfc-4f0c-8f1e-f5441ec3da75 button');\n",
              "      quickchartButtonEl.style.display =\n",
              "        google.colab.kernel.accessAllowed ? 'block' : 'none';\n",
              "    })();\n",
              "  </script>\n",
              "</div>\n",
              "\n",
              "  <div id=\"id_01780997-4a60-43d8-90dd-afcf0ca651e9\">\n",
              "    <style>\n",
              "      .colab-df-generate {\n",
              "        background-color: #E8F0FE;\n",
              "        border: none;\n",
              "        border-radius: 50%;\n",
              "        cursor: pointer;\n",
              "        display: none;\n",
              "        fill: #1967D2;\n",
              "        height: 32px;\n",
              "        padding: 0 0 0 0;\n",
              "        width: 32px;\n",
              "      }\n",
              "\n",
              "      .colab-df-generate:hover {\n",
              "        background-color: #E2EBFA;\n",
              "        box-shadow: 0px 1px 2px rgba(60, 64, 67, 0.3), 0px 1px 3px 1px rgba(60, 64, 67, 0.15);\n",
              "        fill: #174EA6;\n",
              "      }\n",
              "\n",
              "      [theme=dark] .colab-df-generate {\n",
              "        background-color: #3B4455;\n",
              "        fill: #D2E3FC;\n",
              "      }\n",
              "\n",
              "      [theme=dark] .colab-df-generate:hover {\n",
              "        background-color: #434B5C;\n",
              "        box-shadow: 0px 1px 3px 1px rgba(0, 0, 0, 0.15);\n",
              "        filter: drop-shadow(0px 1px 2px rgba(0, 0, 0, 0.3));\n",
              "        fill: #FFFFFF;\n",
              "      }\n",
              "    </style>\n",
              "    <button class=\"colab-df-generate\" onclick=\"generateWithVariable('HAM10000_meta')\"\n",
              "            title=\"Generate code using this dataframe.\"\n",
              "            style=\"display:none;\">\n",
              "\n",
              "  <svg xmlns=\"http://www.w3.org/2000/svg\" height=\"24px\"viewBox=\"0 0 24 24\"\n",
              "       width=\"24px\">\n",
              "    <path d=\"M7,19H8.4L18.45,9,17,7.55,7,17.6ZM5,21V16.75L18.45,3.32a2,2,0,0,1,2.83,0l1.4,1.43a1.91,1.91,0,0,1,.58,1.4,1.91,1.91,0,0,1-.58,1.4L9.25,21ZM18.45,9,17,7.55Zm-12,3A5.31,5.31,0,0,0,4.9,8.1,5.31,5.31,0,0,0,1,6.5,5.31,5.31,0,0,0,4.9,4.9,5.31,5.31,0,0,0,6.5,1,5.31,5.31,0,0,0,8.1,4.9,5.31,5.31,0,0,0,12,6.5,5.46,5.46,0,0,0,6.5,12Z\"/>\n",
              "  </svg>\n",
              "    </button>\n",
              "    <script>\n",
              "      (() => {\n",
              "      const buttonEl =\n",
              "        document.querySelector('#id_01780997-4a60-43d8-90dd-afcf0ca651e9 button.colab-df-generate');\n",
              "      buttonEl.style.display =\n",
              "        google.colab.kernel.accessAllowed ? 'block' : 'none';\n",
              "\n",
              "      buttonEl.onclick = () => {\n",
              "        google.colab.notebook.generateWithVariable('HAM10000_meta');\n",
              "      }\n",
              "      })();\n",
              "    </script>\n",
              "  </div>\n",
              "\n",
              "    </div>\n",
              "  </div>\n"
            ]
          },
          "metadata": {},
          "execution_count": 5
        }
      ]
    },
    {
      "cell_type": "markdown",
      "source": [
        "We sample two diseases, melanoma and benign keratosis from the entire data"
      ],
      "metadata": {
        "id": "-VFrrp90QLYD"
      }
    },
    {
      "cell_type": "code",
      "execution_count": null,
      "metadata": {
        "id": "ztwvM-pXWw1a"
      },
      "outputs": [],
      "source": [
        "HAM_male_mel = HAM10000_meta[(HAM10000_meta.dx == 'mel') & (HAM10000_meta.sex == \"male\")]\n",
        "HAM_female_mel = HAM10000_meta[(HAM10000_meta.dx == 'mel') & (HAM10000_meta.sex == \"female\")]\n",
        "\n",
        "HAM_male_bkl = HAM10000_meta[(HAM10000_meta.dx == 'bkl') & (HAM10000_meta.sex == \"male\")]\n",
        "HAM_female_bkl = HAM10000_meta[(HAM10000_meta.dx == 'bkl') & (HAM10000_meta.sex == \"female\")]"
      ]
    },
    {
      "cell_type": "code",
      "execution_count": null,
      "metadata": {
        "id": "PamKW0IOV3Pp"
      },
      "outputs": [],
      "source": [
        "HAM_male_mel = HAM_male_mel[['image_id', 'dx', 'sex']]\n",
        "HAM_female_mel = HAM_female_mel[['image_id', 'dx', 'sex']]\n",
        "\n",
        "HAM_male_bkl = HAM_male_bkl[['image_id', 'dx', 'sex']]\n",
        "HAM_female_bkl = HAM_female_bkl[['image_id', 'dx', 'sex']]"
      ]
    },
    {
      "cell_type": "code",
      "execution_count": null,
      "metadata": {
        "id": "ZogVPVyMo27z"
      },
      "outputs": [],
      "source": [
        "# HAM_male_mel.to_csv('/content/gdrive/MyDrive/CSC2529/HAM_male_mel.csv')\n",
        "# HAM_female_mel.to_csv('/content/gdrive/MyDrive/CSC2529/HAM_female_mel.csv')\n",
        "\n",
        "# HAM_male_bkl.to_csv('/content/gdrive/MyDrive/CSC2529/HAM_male_bkl.csv')\n",
        "# HAM_female_bkl.to_csv('/content/gdrive/MyDrive/CSC2529/HAM_female_bkl.csv')"
      ]
    },
    {
      "cell_type": "code",
      "source": [
        "HAM_male_mel = pd.read_csv(\"/content/gdrive/MyDrive/CSC2529/HAM_male_mel.csv\")\n",
        "HAM_female_mel = pd.read_csv(\"/content/gdrive/MyDrive/CSC2529/HAM_female_mel.csv\")\n",
        "\n",
        "HAM_male_bkl = pd.read_csv(\"/content/gdrive/MyDrive/CSC2529/HAM_male_bkl.csv\")\n",
        "HAM_female_bkl = pd.read_csv(\"/content/gdrive/MyDrive/CSC2529/HAM_female_bkl.csv\")"
      ],
      "metadata": {
        "id": "PxKFA2eGuIXv"
      },
      "execution_count": null,
      "outputs": []
    },
    {
      "cell_type": "code",
      "source": [
        "HAM_total = pd.concat([HAM_male_mel,HAM_female_mel,HAM_male_bkl,HAM_female_bkl])"
      ],
      "metadata": {
        "id": "CfXmQ7m7t7PQ"
      },
      "execution_count": null,
      "outputs": []
    },
    {
      "cell_type": "code",
      "execution_count": null,
      "metadata": {
        "id": "IEA3xYPNF_B5"
      },
      "outputs": [],
      "source": [
        "# melanoma: 1, benign keratosis: 0\n",
        "label = [1 if dx_ == 'mel' else 0 for dx_ in HAM_total.dx]"
      ]
    },
    {
      "cell_type": "code",
      "source": [
        "HAM_total['label'] = label"
      ],
      "metadata": {
        "id": "JVs9qPqUvKUM"
      },
      "execution_count": null,
      "outputs": []
    },
    {
      "cell_type": "code",
      "source": [
        "# train/test split with 80:20 ratio\n",
        "img_train, img_test = train_test_split(HAM_total, test_size=0.2)"
      ],
      "metadata": {
        "id": "AXsg248tvRB8"
      },
      "execution_count": null,
      "outputs": []
    },
    {
      "cell_type": "code",
      "source": [
        "img_train.to_csv(\"/content/gdrive/MyDrive/CSC2529/HAM_train.csv\")\n",
        "img_test.to_csv(\"/content/gdrive/MyDrive/CSC2529/HAM_test.csv\")"
      ],
      "metadata": {
        "id": "cGoLaFfUvjbc"
      },
      "execution_count": null,
      "outputs": []
    },
    {
      "cell_type": "code",
      "source": [
        "img_train = pd.read_csv(\"/content/gdrive/MyDrive/CSC2529/HAM_train.csv\")"
      ],
      "metadata": {
        "id": "4YiGwZjBhVAm"
      },
      "execution_count": null,
      "outputs": []
    },
    {
      "cell_type": "code",
      "source": [
        "img_train.sex.value_counts()"
      ],
      "metadata": {
        "colab": {
          "base_uri": "https://localhost:8080/"
        },
        "id": "v7bISUf3jKSK",
        "outputId": "3073b35d-4b95-48fc-9118-4bc82c9b42c2"
      },
      "execution_count": null,
      "outputs": [
        {
          "output_type": "execute_result",
          "data": {
            "text/plain": [
              "male      1049\n",
              "female     712\n",
              "Name: sex, dtype: int64"
            ]
          },
          "metadata": {},
          "execution_count": 18
        }
      ]
    },
    {
      "cell_type": "code",
      "source": [
        "counts = img_train.sex.value_counts()\n",
        "plt.figure(figsize=(4, 6))\n",
        "plt.bar(counts.index, counts.values, width=0.4)\n",
        "plt.xlabel('Gender')\n",
        "plt.ylabel('Counts')\n",
        "plt.title('Histogram of Gender')\n"
      ],
      "metadata": {
        "colab": {
          "base_uri": "https://localhost:8080/",
          "height": 581
        },
        "id": "2Ax9tcrthbA7",
        "outputId": "c43fcdfd-97d1-4fec-9ed2-a955c70a4cc2"
      },
      "execution_count": null,
      "outputs": [
        {
          "output_type": "execute_result",
          "data": {
            "text/plain": [
              "Text(0.5, 1.0, 'Histogram of Gender')"
            ]
          },
          "metadata": {},
          "execution_count": 109
        },
        {
          "output_type": "display_data",
          "data": {
            "text/plain": [
              "<Figure size 400x600 with 1 Axes>"
            ],
            "image/png": "[encoded data removed]"
          },
          "metadata": {}
        }
      ]
    },
    {
      "cell_type": "code",
      "source": [
        "pivot_df = img_train.groupby(['sex', 'dx']).size().unstack(fill_value=0)\n",
        "df_percentage = pivot_df.div(pivot_df.sum(axis=1), axis=0) * 100"
      ],
      "metadata": {
        "id": "BjiFqGPihqqL"
      },
      "execution_count": null,
      "outputs": []
    },
    {
      "cell_type": "code",
      "source": [
        "df_percentage.plot(kind='bar', stacked=True)\n",
        "plt.legend(title='Condition', bbox_to_anchor=(1.05, 1), loc='upper left')\n",
        "plt.title(\"Distribution of Skin Cancer by Gender\")\n",
        "plt.ylabel('Percentage')"
      ],
      "metadata": {
        "colab": {
          "base_uri": "https://localhost:8080/",
          "height": 523
        },
        "id": "OhaMpNMdh0Qp",
        "outputId": "1b7e0841-dbef-4cec-a8b0-467a88fd6938"
      },
      "execution_count": null,
      "outputs": [
        {
          "output_type": "execute_result",
          "data": {
            "text/plain": [
              "Text(0, 0.5, 'Percentage')"
            ]
          },
          "metadata": {},
          "execution_count": 10
        },
        {
          "output_type": "display_data",
          "data": {
            "text/plain": [
              "<Figure size 640x480 with 1 Axes>"
            ],
            "image/png": "[encoded data removed]"
          },
          "metadata": {}
        }
      ]
    },
    {
      "cell_type": "code",
      "execution_count": null,
      "metadata": {
        "id": "K_cauvhfXUq7"
      },
      "outputs": [],
      "source": [
        "dataset = HAM10000(csv_file = \"/content/gdrive/MyDrive/CSC2529/HAM_train.csv\",\n",
        "                           img_dir = \"/content/gdrive/MyDrive/Team_1/Data/HAM10000/HAM10000_images/\",\n",
        "\n",
        "transform=transforms.Compose([\n",
        "                               transforms.Resize(image_size),\n",
        "                               transforms.CenterCrop(image_size),\n",
        "                               transforms.Normalize((0.5, 0.5, 0.5), (0.5, 0.5, 0.5)),\n",
        "                           ])\n",
        ")"
      ]
    },
    {
      "cell_type": "code",
      "execution_count": null,
      "metadata": {
        "id": "6U3FXPHEwT5h"
      },
      "outputs": [],
      "source": [
        "train_dl = DataLoader(dataset, batch_size=32, shuffle=True)"
      ]
    },
    {
      "cell_type": "code",
      "execution_count": null,
      "metadata": {
        "id": "2qtPZPYlGxU4"
      },
      "outputs": [],
      "source": [
        "test_set = HAM10000(csv_file = \"/content/gdrive/MyDrive/CSC2529/HAM_test.csv\",\n",
        "                          img_dir = \"/content/gdrive/MyDrive/Team_1/Data/HAM10000/HAM10000_images/\",\n",
        "                          transform = transforms.Compose([\n",
        "    transforms.Resize(256),\n",
        "    transforms.CenterCrop(224),\n",
        "    transforms.Normalize(mean=[0.485, 0.456, 0.406], std=[0.229, 0.224, 0.225])\n",
        "]))"
      ]
    },
    {
      "cell_type": "code",
      "execution_count": null,
      "metadata": {
        "id": "IDb2rWQFGxU4"
      },
      "outputs": [],
      "source": [
        "test_dl = DataLoader(test_set)"
      ]
    },
    {
      "cell_type": "markdown",
      "source": [
        "#### Baseline"
      ],
      "metadata": {
        "id": "Ssr_Ln7-7XzK"
      }
    },
    {
      "cell_type": "markdown",
      "source": [
        "Using entire training data"
      ],
      "metadata": {
        "id": "HJYfgReJTsV6"
      }
    },
    {
      "cell_type": "code",
      "execution_count": null,
      "metadata": {
        "id": "Ja7znqzrF_B5"
      },
      "outputs": [],
      "source": [
        "model = models.resnet18(pretrained=True)\n",
        "num_ftrs = model.fc.in_features\n",
        "model.fc = nn.Linear(num_ftrs, 2)\n",
        "criterion = nn.CrossEntropyLoss()\n",
        "optimizer = optim.Adam(model.parameters(), lr=0.001, weight_decay=weight_decay, betas=(beta1,beta2))"
      ]
    },
    {
      "cell_type": "code",
      "source": [
        "for epoch in range(10):\n",
        "  model.train()\n",
        "  for input, label, gender in train_dl:\n",
        "    optimizer.zero_grad()\n",
        "    outputs = model(input)\n",
        "    loss = criterion(outputs, label)\n",
        "    loss.backward()\n",
        "    optimizer.step()\n",
        "\n",
        "print(f'Loss: {loss.item()}')"
      ],
      "metadata": {
        "colab": {
          "base_uri": "https://localhost:8080/"
        },
        "id": "4BjMWujMpwFy",
        "outputId": "4d5f9684-ea96-4c42-f893-05a5eeb79ef4"
      },
      "execution_count": null,
      "outputs": [
        {
          "output_type": "stream",
          "name": "stdout",
          "text": [
            "Loss: 0.3572191298007965\n"
          ]
        }
      ]
    },
    {
      "cell_type": "code",
      "execution_count": null,
      "metadata": {
        "id": "UeTsgKl8F_B5"
      },
      "outputs": [],
      "source": [
        "acc_female = []\n",
        "acc_male = []"
      ]
    },
    {
      "cell_type": "code",
      "execution_count": null,
      "metadata": {
        "id": "HYIM2ifeF_B5"
      },
      "outputs": [],
      "source": [
        "model.eval()\n",
        "with torch.no_grad():\n",
        "    for inputs, labels, gender in test_dl:\n",
        "        outputs = model(inputs)\n",
        "        _, predicted = torch.max(outputs.data, 1)\n",
        "        correct = 0\n",
        "        if predicted == labels: correct = 1\n",
        "        match gender[0]:\n",
        "          case 'female': acc_female.append(correct)\n",
        "          case 'male': acc_male.append(correct)"
      ]
    },
    {
      "cell_type": "code",
      "source": [
        "print(f\"For female, the accuracy is {sum(acc_female)/len(acc_female)}\")\n",
        "print(f\"For male, the accuracy is {sum(acc_male)/len(acc_male)}\")"
      ],
      "metadata": {
        "colab": {
          "base_uri": "https://localhost:8080/"
        },
        "id": "kd23uKfcE2y-",
        "outputId": "fecaa311-9ff7-4674-ad75-5428b714b45b"
      },
      "execution_count": null,
      "outputs": [
        {
          "output_type": "stream",
          "name": "stdout",
          "text": [
            "For female, the accuracy is 0.7028571428571428\n",
            "For male, the accuracy is 0.7105263157894737\n"
          ]
        }
      ]
    },
    {
      "cell_type": "markdown",
      "source": [
        "========================================\n"
      ],
      "metadata": {
        "id": "UpD3XXzCJSGo"
      }
    },
    {
      "cell_type": "code",
      "source": [
        "model = models.resnet18(pretrained=True)\n",
        "num_ftrs = model.fc.in_features\n",
        "model.fc = nn.Linear(num_ftrs, 2)\n",
        "criterion = nn.CrossEntropyLoss()\n",
        "optimizer = optim.Adam(model.parameters(), lr=0.001, weight_decay=weight_decay, betas=(beta1,beta2))"
      ],
      "metadata": {
        "id": "irAbENpjJOtZ"
      },
      "execution_count": null,
      "outputs": []
    },
    {
      "cell_type": "code",
      "execution_count": null,
      "metadata": {
        "colab": {
          "base_uri": "https://localhost:8080/"
        },
        "id": "MffQBM8MF_B5",
        "outputId": "9cbd090f-ed81-4f97-c6ff-65aa8777d88b"
      },
      "outputs": [
        {
          "output_type": "stream",
          "name": "stdout",
          "text": [
            "Loss: 0.4362962543964386\n"
          ]
        }
      ],
      "source": [
        "for epoch in range(10):\n",
        "  model.train()\n",
        "  for input, label, gender in train_dl:\n",
        "    optimizer.zero_grad()\n",
        "    outputs = model(input)\n",
        "    loss = criterion(outputs, label)\n",
        "    loss.backward()\n",
        "    optimizer.step()\n",
        "\n",
        "print(f'Loss: {loss.item()}')"
      ]
    },
    {
      "cell_type": "code",
      "source": [
        "acc_female = []\n",
        "acc_male = []\n",
        "acc_mel = []\n",
        "acc_bkl = []"
      ],
      "metadata": {
        "id": "8jPdzLFyiNB6"
      },
      "execution_count": null,
      "outputs": []
    },
    {
      "cell_type": "code",
      "source": [
        "model.eval()\n",
        "with torch.no_grad():\n",
        "    for inputs, label, gender in test_dl:\n",
        "        outputs = model(inputs)\n",
        "        _, predicted = torch.max(outputs.data, 1)\n",
        "        correct = 0\n",
        "        if predicted == labels: correct = 1\n",
        "        match gender[0]:\n",
        "          case 'female': acc_female.append(correct)\n",
        "          case 'male': acc_male.append(correct)\n",
        "\n",
        "        match label[0]:\n",
        "          case 0: acc_bkl.append(correct)\n",
        "          case 1: acc_mel.append(correct)"
      ],
      "metadata": {
        "id": "lfGwhAg83Aw9"
      },
      "execution_count": null,
      "outputs": []
    },
    {
      "cell_type": "markdown",
      "source": [
        "========================================\n"
      ],
      "metadata": {
        "id": "KTbvD9MSJQ7-"
      }
    },
    {
      "cell_type": "code",
      "source": [
        "model = models.resnet18(pretrained=True)\n",
        "num_ftrs = model.fc.in_features\n",
        "model.fc = nn.Linear(num_ftrs, 2)\n",
        "criterion = nn.CrossEntropyLoss()\n",
        "optimizer = optim.Adam(model.parameters(), lr=0.001, weight_decay=weight_decay, betas=(beta1,beta2))"
      ],
      "metadata": {
        "id": "Y22nHMz0q_Wz"
      },
      "execution_count": null,
      "outputs": []
    },
    {
      "cell_type": "code",
      "source": [
        "for epoch in range(10):\n",
        "  model.train()\n",
        "  for input, label, gender in train_dl:\n",
        "    optimizer.zero_grad()\n",
        "    outputs = model(input)\n",
        "    loss = criterion(outputs, label)\n",
        "    loss.backward()\n",
        "    optimizer.step()\n",
        "\n",
        "print(f'Loss: {loss.item()}')"
      ],
      "metadata": {
        "colab": {
          "base_uri": "https://localhost:8080/"
        },
        "outputId": "eaba79e9-8cee-4853-cb8c-889238168831",
        "id": "_wrVP5CEq_Y7"
      },
      "execution_count": null,
      "outputs": [
        {
          "output_type": "stream",
          "name": "stdout",
          "text": [
            "Loss: 0.012643975205719471\n"
          ]
        }
      ]
    },
    {
      "cell_type": "code",
      "execution_count": null,
      "metadata": {
        "id": "kFRKrWYHq_Y7"
      },
      "outputs": [],
      "source": [
        "acc_mel = []\n",
        "acc_bkl = []"
      ]
    },
    {
      "cell_type": "code",
      "source": [
        "model.eval()\n",
        "with torch.no_grad():\n",
        "    for inputs, label, gender in test_dl:\n",
        "        outputs = model(inputs)\n",
        "        _, predicted = torch.max(outputs.data, 1)\n",
        "        correct = 0\n",
        "        if predicted == label: correct = 1\n",
        "        match label[0]:\n",
        "          case 0: acc_bkl.append(correct)\n",
        "          case 1: acc_mel.append(correct)"
      ],
      "metadata": {
        "id": "TjmBprA_q_Y8"
      },
      "execution_count": null,
      "outputs": []
    },
    {
      "cell_type": "code",
      "source": [
        "print(f\"For melanoma, the accuracy is {sum(acc_mel)/len(acc_mel)}\")\n",
        "print(f\"For benign keratosis, the accuracy is {sum(acc_bkl)/len(acc_bkl)}\")"
      ],
      "metadata": {
        "colab": {
          "base_uri": "https://localhost:8080/"
        },
        "id": "o1z6jKyBTb5m",
        "outputId": "831f70eb-2ade-429d-ee1c-6550cb91bc3a"
      },
      "execution_count": null,
      "outputs": [
        {
          "output_type": "stream",
          "name": "stdout",
          "text": [
            "For melanoma, the accuracy is 0.8364485981308412\n",
            "For benign keratosis, the accuracy is 0.5814977973568282\n"
          ]
        }
      ]
    },
    {
      "cell_type": "markdown",
      "source": [
        "#### Imbalanced"
      ],
      "metadata": {
        "id": "e_8WMKezLlYT"
      }
    },
    {
      "cell_type": "code",
      "source": [
        "HAM_ori = pd.read_csv(\"/content/gdrive/MyDrive/CSC2529/HAM_train.csv\")"
      ],
      "metadata": {
        "id": "xqwLqewILlYT"
      },
      "execution_count": null,
      "outputs": []
    },
    {
      "cell_type": "markdown",
      "source": [
        "We remove 70\\% male to exacerbate the imbalance in the dataset"
      ],
      "metadata": {
        "id": "-3JVS2j0LlYT"
      }
    },
    {
      "cell_type": "code",
      "source": [
        "n_male = int(len(HAM_ori[HAM_ori['sex'] == 'male']) * 0.7)"
      ],
      "metadata": {
        "id": "l8NOVBa0LlYT"
      },
      "execution_count": null,
      "outputs": []
    },
    {
      "cell_type": "code",
      "source": [
        "rows_to_remove = HAM_ori[HAM_ori['sex'] == 'male'].sample(n_male).index"
      ],
      "metadata": {
        "id": "jjQ6YEBLLlYT"
      },
      "execution_count": null,
      "outputs": []
    },
    {
      "cell_type": "code",
      "source": [
        "HAM_imbalance_male = HAM_ori.drop(rows_to_remove)"
      ],
      "metadata": {
        "id": "msXDIW85LlYT"
      },
      "execution_count": null,
      "outputs": []
    },
    {
      "cell_type": "code",
      "source": [
        "HAM_imbalance_male.to_csv(\"/content/gdrive/MyDrive/CSC2529/HAM_imbalance_male.csv\")"
      ],
      "metadata": {
        "id": "JBgQGl9NLlYT"
      },
      "execution_count": null,
      "outputs": []
    },
    {
      "cell_type": "code",
      "source": [
        "img_train = pd.read_csv(\"/content/gdrive/MyDrive/CSC2529/HAM_imbalance_male.csv\")"
      ],
      "metadata": {
        "id": "caVrEzJJiXJz"
      },
      "execution_count": null,
      "outputs": []
    },
    {
      "cell_type": "markdown",
      "source": [
        "By removing 70% male from the original data, we nearly double the difference between gender in terms of the percentage to create a severe imbalance"
      ],
      "metadata": {
        "id": "o0Bs3KN5igJn"
      }
    },
    {
      "cell_type": "code",
      "source": [
        "img_train.sex.value_counts()"
      ],
      "metadata": {
        "colab": {
          "base_uri": "https://localhost:8080/"
        },
        "id": "aDQ9-bRFihXF",
        "outputId": "baa88f02-d172-405e-e21b-0d2c23774c74"
      },
      "execution_count": null,
      "outputs": [
        {
          "output_type": "execute_result",
          "data": {
            "text/plain": [
              "female    712\n",
              "male      315\n",
              "Name: sex, dtype: int64"
            ]
          },
          "metadata": {},
          "execution_count": 16
        }
      ]
    },
    {
      "cell_type": "code",
      "source": [
        "counts = img_train.sex.value_counts()\n",
        "plt.figure(figsize=(4, 6))\n",
        "plt.bar(counts.index, counts.values, width=0.4)\n",
        "plt.xlabel('Gender')\n",
        "plt.ylabel('Counts')\n",
        "plt.title('Histogram of Gender')\n"
      ],
      "metadata": {
        "colab": {
          "base_uri": "https://localhost:8080/",
          "height": 581
        },
        "outputId": "71e4c60a-92f5-4fd6-828c-6e751fc03929",
        "id": "uw4F-XqfiXJz"
      },
      "execution_count": null,
      "outputs": [
        {
          "output_type": "execute_result",
          "data": {
            "text/plain": [
              "Text(0.5, 1.0, 'Histogram of Gender')"
            ]
          },
          "metadata": {},
          "execution_count": 111
        },
        {
          "output_type": "display_data",
          "data": {
            "text/plain": [
              "<Figure size 400x600 with 1 Axes>"
            ],
            "image/png": "[encoded data removed]"
          },
          "metadata": {}
        }
      ]
    },
    {
      "cell_type": "code",
      "source": [
        "pivot_df = img_train.groupby(['sex', 'dx']).size().unstack(fill_value=0)\n",
        "df_percentage = pivot_df.div(pivot_df.sum(axis=1), axis=0) * 100"
      ],
      "metadata": {
        "id": "WKuVd4u5iXJ0"
      },
      "execution_count": null,
      "outputs": []
    },
    {
      "cell_type": "code",
      "source": [
        "df_percentage.plot(kind='bar', stacked=True)\n",
        "plt.legend(title='Condition', bbox_to_anchor=(1.05, 1), loc='upper left')\n",
        "plt.title(\"Distribution of Skin Cancer by Gender\")\n",
        "plt.ylabel('Percentage')"
      ],
      "metadata": {
        "colab": {
          "base_uri": "https://localhost:8080/",
          "height": 523
        },
        "outputId": "69384ede-a843-458b-eab9-865d2b735c47",
        "id": "QZ86rAxeiXJ0"
      },
      "execution_count": null,
      "outputs": [
        {
          "output_type": "execute_result",
          "data": {
            "text/plain": [
              "Text(0, 0.5, 'Percentage')"
            ]
          },
          "metadata": {},
          "execution_count": 15
        },
        {
          "output_type": "display_data",
          "data": {
            "text/plain": [
              "<Figure size 640x480 with 1 Axes>"
            ],
            "image/png": "[encoded data removed]"
          },
          "metadata": {}
        }
      ]
    },
    {
      "cell_type": "code",
      "execution_count": null,
      "metadata": {
        "id": "lIuwFvjcLlYT"
      },
      "outputs": [],
      "source": [
        "dataset = HAM10000(csv_file = \"/content/gdrive/MyDrive/CSC2529/HAM_imbalance_male.csv\",\n",
        "                           img_dir = \"/content/gdrive/MyDrive/Team_1/Data/HAM10000/HAM10000_images/\",\n",
        "\n",
        "transform=transforms.Compose([\n",
        "                               transforms.Resize(image_size),\n",
        "                               transforms.CenterCrop(image_size),\n",
        "                               transforms.Normalize((0.5, 0.5, 0.5), (0.5, 0.5, 0.5)),\n",
        "                           ])\n",
        ")"
      ]
    },
    {
      "cell_type": "code",
      "execution_count": null,
      "metadata": {
        "id": "8WAVA4LyLlYU"
      },
      "outputs": [],
      "source": [
        "train_dl = DataLoader(dataset, batch_size=32, shuffle=True)"
      ]
    },
    {
      "cell_type": "code",
      "source": [
        "len(train_dl)"
      ],
      "metadata": {
        "colab": {
          "base_uri": "https://localhost:8080/"
        },
        "outputId": "c35f6ef3-0b0c-458a-9b33-aebb917e5a98",
        "id": "0dgPRl3FLlYU"
      },
      "execution_count": null,
      "outputs": [
        {
          "output_type": "execute_result",
          "data": {
            "text/plain": [
              "33"
            ]
          },
          "metadata": {},
          "execution_count": 21
        }
      ]
    },
    {
      "cell_type": "code",
      "execution_count": null,
      "metadata": {
        "id": "IQR3Wi5GLlYU",
        "colab": {
          "base_uri": "https://localhost:8080/"
        },
        "outputId": "3edb7914-568e-48be-b9c7-1f7302b575dc"
      },
      "outputs": [
        {
          "output_type": "stream",
          "name": "stderr",
          "text": [
            "Downloading: \"https://download.pytorch.org/models/resnet18-f37072fd.pth\" to /root/.cache/torch/hub/checkpoints/resnet18-f37072fd.pth\n",
            "100%|██████████| 44.7M/44.7M [00:00<00:00, 161MB/s]\n"
          ]
        }
      ],
      "source": [
        "model = models.resnet18(pretrained=True)\n",
        "num_ftrs = model.fc.in_features\n",
        "model.fc = nn.Linear(num_ftrs, 2)\n",
        "criterion = nn.CrossEntropyLoss()\n",
        "optimizer = optim.Adam(model.parameters(), lr=0.001, weight_decay=weight_decay, betas=(beta1,beta2))"
      ]
    },
    {
      "cell_type": "code",
      "execution_count": null,
      "metadata": {
        "colab": {
          "base_uri": "https://localhost:8080/"
        },
        "outputId": "02f1d3aa-de97-4c19-f7e6-e2f892cda2cc",
        "id": "CXIHJ2FILlYU"
      },
      "outputs": [
        {
          "output_type": "stream",
          "name": "stdout",
          "text": [
            "Loss: 0.10409633070230484\n"
          ]
        }
      ],
      "source": [
        "for epoch in range(10):\n",
        "  model.train()\n",
        "  for input, label, gender in train_dl:\n",
        "    optimizer.zero_grad()\n",
        "    outputs = model(input)\n",
        "    loss = criterion(outputs, label)\n",
        "    loss.backward()\n",
        "    optimizer.step()\n",
        "print(f'Loss: {loss.item()}')"
      ]
    },
    {
      "cell_type": "code",
      "source": [
        "acc_female = []\n",
        "acc_male = []"
      ],
      "metadata": {
        "id": "sglz8GXVNtRl"
      },
      "execution_count": null,
      "outputs": []
    },
    {
      "cell_type": "code",
      "source": [
        "model.eval()\n",
        "with torch.no_grad():\n",
        "    for inputs, labels, gender in test_dl:\n",
        "        outputs = model(inputs)\n",
        "        _, predicted = torch.max(outputs.data, 1)\n",
        "        correct = 0\n",
        "        if predicted == labels: correct = 1\n",
        "        match gender[0]:\n",
        "          case 'female': acc_female.append(correct)\n",
        "          case 'male': acc_male.append(correct)"
      ],
      "metadata": {
        "id": "qvFpKHUhNu5s"
      },
      "execution_count": null,
      "outputs": []
    },
    {
      "cell_type": "code",
      "source": [
        "print(f\"For female, the accuracy is {sum(acc_female)/len(acc_female)}\")\n",
        "print(f\"For male, the accuracy is {sum(acc_male)/len(acc_male)}\")"
      ],
      "metadata": {
        "colab": {
          "base_uri": "https://localhost:8080/"
        },
        "outputId": "f13d3558-0472-4818-9399-de92a3740a06",
        "id": "HZBabZe4OOPt"
      },
      "execution_count": null,
      "outputs": [
        {
          "output_type": "stream",
          "name": "stdout",
          "text": [
            "For female, the accuracy is 0.6514285714285715\n",
            "For male, the accuracy is 0.5451127819548872\n"
          ]
        }
      ]
    },
    {
      "cell_type": "code",
      "source": [
        "model = models.resnet18(pretrained=True)\n",
        "num_ftrs = model.fc.in_features\n",
        "model.fc = nn.Linear(num_ftrs, 2)\n",
        "criterion = nn.CrossEntropyLoss()\n",
        "optimizer = optim.Adam(model.parameters(), lr=0.001, weight_decay=weight_decay, betas=(beta1,beta2))"
      ],
      "metadata": {
        "id": "tjfbdBZTtvwg"
      },
      "execution_count": null,
      "outputs": []
    },
    {
      "cell_type": "code",
      "source": [
        "for epoch in range(10):\n",
        "  model.train()\n",
        "  for input, label, gender in train_dl:\n",
        "    optimizer.zero_grad()\n",
        "    outputs = model(input)\n",
        "    loss = criterion(outputs, label)\n",
        "    loss.backward()\n",
        "    optimizer.step()\n",
        "\n",
        "print(f'Loss: {loss.item()}')"
      ],
      "metadata": {
        "colab": {
          "base_uri": "https://localhost:8080/"
        },
        "outputId": "4677de86-6cc6-49ca-b9b1-ce13a42f4215",
        "id": "qNhgn0F6tvwh"
      },
      "execution_count": null,
      "outputs": [
        {
          "output_type": "stream",
          "name": "stdout",
          "text": [
            "Loss: 0.04324306920170784\n"
          ]
        }
      ]
    },
    {
      "cell_type": "code",
      "execution_count": null,
      "metadata": {
        "id": "Z3R31Gt0tvwh"
      },
      "outputs": [],
      "source": [
        "acc_mel = []\n",
        "acc_bkl = []"
      ]
    },
    {
      "cell_type": "code",
      "source": [
        "model.eval()\n",
        "with torch.no_grad():\n",
        "    for inputs, label, gender in test_dl:\n",
        "        outputs = model(inputs)\n",
        "        _, predicted = torch.max(outputs.data, 1)\n",
        "        correct = 0\n",
        "        if predicted == label: correct = 1\n",
        "        match label[0]:\n",
        "          case 0: acc_bkl.append(correct)\n",
        "          case 1: acc_mel.append(correct)"
      ],
      "metadata": {
        "id": "IDT9w7yFtvwh"
      },
      "execution_count": null,
      "outputs": []
    },
    {
      "cell_type": "code",
      "source": [
        "print(f\"For melanoma, the accuracy is {sum(acc_mel)/len(acc_mel)}\")\n",
        "print(f\"For benign keratosis, the accuracy is {sum(acc_bkl)/len(acc_bkl)}\")"
      ],
      "metadata": {
        "colab": {
          "base_uri": "https://localhost:8080/"
        },
        "id": "_QMRo8xmoUlW",
        "outputId": "eae4c92d-00ff-43e4-a023-825124c67725"
      },
      "execution_count": null,
      "outputs": [
        {
          "output_type": "stream",
          "name": "stdout",
          "text": [
            "For melanoma, the accuracy is 0.8551401869158879\n",
            "For benign keratosis, the accuracy is 0.5638766519823789\n"
          ]
        }
      ]
    },
    {
      "cell_type": "markdown",
      "source": [
        "## GAN"
      ],
      "metadata": {
        "id": "yrnWMBL6qfo9"
      }
    },
    {
      "cell_type": "code",
      "source": [
        "HAM_imbalance_male = pd.read_csv(\"/content/gdrive/MyDrive/CSC2529/HAM_imbalance_male.csv\")"
      ],
      "metadata": {
        "id": "jBsiugIKqe7V"
      },
      "execution_count": null,
      "outputs": []
    },
    {
      "cell_type": "code",
      "source": [
        "GAN_male_bkl = pd.read_csv(\"/content/gdrive/MyDrive/CSC2529/GAN_aug_male_bkl.csv\")\n",
        "GAN_male_mel = pd.read_csv(\"/content/gdrive/MyDrive/CSC2529/GAN_aug_male_mel.csv\")"
      ],
      "metadata": {
        "id": "MXpkwNyYrVTg"
      },
      "execution_count": null,
      "outputs": []
    },
    {
      "cell_type": "code",
      "source": [
        "GAN_total = pd.concat([HAM_imbalance_male, GAN_male_bkl, GAN_male_mel])"
      ],
      "metadata": {
        "id": "35gMrsfkrkwm"
      },
      "execution_count": null,
      "outputs": []
    },
    {
      "cell_type": "code",
      "source": [
        "dataset = HAM10000(csv_file = \"/content/gdrive/MyDrive/CSC2529/GAN_total.csv\",\n",
        "                           img_dir = \"/content/gdrive/MyDrive/Team_1/Data/HAM10000/HAM10000_images/\",\n",
        "\n",
        "transform=transforms.Compose([\n",
        "                               transforms.Resize(image_size),\n",
        "                               transforms.CenterCrop(image_size),\n",
        "                               transforms.Normalize((0.5, 0.5, 0.5), (0.5, 0.5, 0.5)),\n",
        "                           ])\n",
        ")"
      ],
      "metadata": {
        "id": "4kV_WAOHr9Xh"
      },
      "execution_count": null,
      "outputs": []
    },
    {
      "cell_type": "code",
      "source": [
        "train_dl = DataLoader(dataset, batch_size=32, shuffle=True)"
      ],
      "metadata": {
        "id": "QmMOZHURsBvQ"
      },
      "execution_count": null,
      "outputs": []
    },
    {
      "cell_type": "code",
      "execution_count": null,
      "metadata": {
        "id": "7LGECAYwsRZT"
      },
      "outputs": [],
      "source": [
        "model = models.resnet18(pretrained=True)\n",
        "num_ftrs = model.fc.in_features\n",
        "model.fc = nn.Linear(num_ftrs, 2)\n",
        "criterion = nn.CrossEntropyLoss()\n",
        "optimizer = optim.Adam(model.parameters(), lr=0.001, weight_decay=weight_decay, betas=(beta1,beta2))"
      ]
    },
    {
      "cell_type": "code",
      "execution_count": null,
      "metadata": {
        "id": "eCreRPgMsRZU",
        "colab": {
          "base_uri": "https://localhost:8080/"
        },
        "outputId": "96ead8df-d334-4801-ece7-a55db0716e0c"
      },
      "outputs": [
        {
          "output_type": "stream",
          "name": "stdout",
          "text": [
            "Loss: 0.0013814172707498074\n"
          ]
        }
      ],
      "source": [
        "for epoch in range(10):\n",
        "  model.train()\n",
        "  for input, label, gender in train_dl:\n",
        "    optimizer.zero_grad()\n",
        "    outputs = model(input)\n",
        "    loss = criterion(outputs, label)\n",
        "    loss.backward()\n",
        "    optimizer.step()\n",
        "\n",
        "print(f'Loss: {loss.item()}')"
      ]
    },
    {
      "cell_type": "code",
      "execution_count": null,
      "metadata": {
        "id": "vQ3FbWADsRZU"
      },
      "outputs": [],
      "source": [
        "acc_female = []\n",
        "acc_male = []\n",
        "acc_mel = []\n",
        "acc_bkl = []"
      ]
    },
    {
      "cell_type": "code",
      "execution_count": null,
      "metadata": {
        "id": "K53VgYhQsRZU"
      },
      "outputs": [],
      "source": [
        "model.eval()\n",
        "with torch.no_grad():\n",
        "    for inputs, labels, gender in test_dl:\n",
        "        outputs = model(inputs)\n",
        "        _, predicted = torch.max(outputs.data, 1)\n",
        "        correct = 0\n",
        "        if predicted == labels: correct = 1\n",
        "        match gender[0]:\n",
        "          case 'female': acc_female.append(correct)\n",
        "          case 'male': acc_male.append(correct)\n",
        "        if labels[0] == 0: acc_bkl.append(correct)\n",
        "        else: acc_mel.append(correct)"
      ]
    },
    {
      "cell_type": "code",
      "source": [
        "print(f\"For female, the accuracy is {sum(acc_female)/len(acc_female)}\")\n",
        "print(f\"For male, the accuracy is {sum(acc_male)/len(acc_male)}\")"
      ],
      "metadata": {
        "colab": {
          "base_uri": "https://localhost:8080/"
        },
        "id": "zihybbcHwZY-",
        "outputId": "79193a2b-d1d6-4a91-ea1e-1c6221f3473a"
      },
      "execution_count": null,
      "outputs": [
        {
          "output_type": "stream",
          "name": "stdout",
          "text": [
            "For female, the accuracy is 0.6971428571428572\n",
            "For male, the accuracy is 0.6616541353383458\n"
          ]
        }
      ]
    },
    {
      "cell_type": "markdown",
      "source": [
        "++++++++++++++++++++++++++++++++++++++++++++++++++++++++++++++++++++++++++++++++++++"
      ],
      "metadata": {
        "id": "jfsSmTue9MFh"
      }
    },
    {
      "cell_type": "code",
      "execution_count": null,
      "metadata": {
        "id": "LM7r5NyEA1oG"
      },
      "outputs": [],
      "source": [
        "model = models.resnet18(pretrained=True)\n",
        "num_ftrs = model.fc.in_features\n",
        "model.fc = nn.Linear(num_ftrs, 2)\n",
        "criterion = nn.CrossEntropyLoss()\n",
        "optimizer = optim.Adam(model.parameters(), lr=0.001, weight_decay=weight_decay, betas=(beta1,beta2))"
      ]
    },
    {
      "cell_type": "code",
      "execution_count": null,
      "metadata": {
        "colab": {
          "base_uri": "https://localhost:8080/"
        },
        "outputId": "2b861dcb-1adf-4078-a266-f1d588c545a3",
        "id": "xz0Ml6kWA1oH"
      },
      "outputs": [
        {
          "output_type": "stream",
          "name": "stdout",
          "text": [
            "Loss: 0.2748543918132782\n"
          ]
        }
      ],
      "source": [
        "for epoch in range(10):\n",
        "  model.train()\n",
        "  for input, label, gender in train_dl:\n",
        "    optimizer.zero_grad()\n",
        "    outputs = model(input)\n",
        "    loss = criterion(outputs, label)\n",
        "    loss.backward()\n",
        "    optimizer.step()\n",
        "\n",
        "print(f'Loss: {loss.item()}')"
      ]
    },
    {
      "cell_type": "code",
      "execution_count": null,
      "metadata": {
        "id": "0UFwWRC61ghT"
      },
      "outputs": [],
      "source": [
        "acc_mel = []\n",
        "acc_bkl = []"
      ]
    },
    {
      "cell_type": "code",
      "source": [
        "model.eval()\n",
        "with torch.no_grad():\n",
        "    for inputs, label, gender in test_dl:\n",
        "        outputs = model(inputs)\n",
        "        _, predicted = torch.max(outputs.data, 1)\n",
        "        correct = 0\n",
        "        if predicted == label: correct = 1\n",
        "        match label[0]:\n",
        "          case 0: acc_bkl.append(correct)\n",
        "          case 1: acc_mel.append(correct)"
      ],
      "metadata": {
        "id": "mUNHaaje1ghU"
      },
      "execution_count": null,
      "outputs": []
    },
    {
      "cell_type": "code",
      "source": [
        "print(f\"For melanoma, the accuracy is {sum(acc_mel)/len(acc_mel)}\")\n",
        "print(f\"For benign keratosis, the accuracy is {sum(acc_bkl)/len(acc_bkl)}\")"
      ],
      "metadata": {
        "id": "5BUUP6B0b4Ry",
        "outputId": "88e0f43e-d7af-482e-ef52-a223b6ad77d3",
        "colab": {
          "base_uri": "https://localhost:8080/"
        }
      },
      "execution_count": null,
      "outputs": [
        {
          "output_type": "stream",
          "name": "stdout",
          "text": [
            "For melanoma, the accuracy is 0.8504672897196262\n",
            "For benign keratosis, the accuracy is 0.5286343612334802\n"
          ]
        }
      ]
    }
  ]
}